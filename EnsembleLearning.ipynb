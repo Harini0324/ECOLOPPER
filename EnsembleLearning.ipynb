{
  "nbformat": 4,
  "nbformat_minor": 0,
  "metadata": {
    "colab": {
      "provenance": [],
      "include_colab_link": true
    },
    "kernelspec": {
      "name": "python3",
      "display_name": "Python 3"
    },
    "language_info": {
      "name": "python"
    }
  },
  "cells": [
    {
      "cell_type": "markdown",
      "metadata": {
        "id": "view-in-github",
        "colab_type": "text"
      },
      "source": [
        "<a href=\"https://colab.research.google.com/github/Harini0324/ECOLOPPER/blob/main/EnsembleLearning.ipynb\" target=\"_parent\"><img src=\"https://colab.research.google.com/assets/colab-badge.svg\" alt=\"Open In Colab\"/></a>"
      ]
    },
    {
      "cell_type": "code",
      "source": [
        "import pandas as pd\n",
        "import numpy as np\n",
        "\n",
        "from sklearn.ensemble import RandomForestRegressor\n",
        "from sklearn.model_selection import train_test_split\n",
        "from sklearn.metrics import mean_squared_error, mean_absolute_error\n",
        "\n",
        "df = pd.read_csv(\"/content/vegetation_dataset.csv\")\n",
        "\n",
        "features = df[[\"contour_area\",  \"bounding_box_width\", \"bounding_box_height\", \"mean_intensity\", \"standard_deviation\", \"contrast\",  \"energy\"]]\n",
        "target = df[\"height\"]\n",
        "\n",
        "X_train, X_test, y_train, y_test = train_test_split(features, target, test_size=0.35, random_state=42)\n",
        "\n",
        "rf_model = RandomForestRegressor(n_estimators=120, max_depth=None, random_state=0)\n",
        "rf_model.fit(X_train, y_train)\n",
        "\n",
        "predicted_heights = rf_model.predict(X_test)\n",
        "\n",
        "mse = mean_squared_error(y_test, predicted_heights)\n",
        "rmse = np.sqrt(mse)\n",
        "mae = mean_absolute_error(y_test, predicted_heights)\n",
        "print(f\"Mean Squared Error (MSE): {mse}\")\n",
        "print(f\"Root Mean Squared Error (RMSE): {rmse}\")\n",
        "print(f\"Mean Absolute Error (MAE): {mae}\")\n"
      ],
      "metadata": {
        "id": "we7L1_WrMc9b",
        "colab": {
          "base_uri": "https://localhost:8080/"
        },
        "outputId": "7adc7230-9e79-4700-a6c4-9afc843eae7a"
      },
      "execution_count": null,
      "outputs": [
        {
          "output_type": "stream",
          "name": "stdout",
          "text": [
            "Mean Squared Error (MSE): 0.047161135262486664\n",
            "Root Mean Squared Error (RMSE): 0.21716614667688577\n",
            "Mean Absolute Error (MAE): 0.1735591118240549\n"
          ]
        }
      ]
    },
    {
      "cell_type": "code",
      "execution_count": null,
      "metadata": {
        "id": "bPTzklJL4x2e",
        "colab": {
          "base_uri": "https://localhost:8080/"
        },
        "outputId": "682223f9-0f9c-4b36-fcd6-2f7c2f3f8a1c"
      },
      "outputs": [
        {
          "output_type": "stream",
          "name": "stdout",
          "text": [
            "XGBoost - Mean Squared Error (MSE): 0.04969591610051103\n",
            "XGBoost - Root Mean Squared Error (RMSE): 0.22292580851151136\n",
            "XGBoost - Mean Absolute Error (MAE): 0.1788050644865506\n"
          ]
        }
      ],
      "source": [
        "from xgboost import XGBRegressor\n",
        "\n",
        "xgb_model = XGBRegressor(n_estimators=128, max_depth=6, learning_rate=0.1)\n",
        "xgb_model.fit(X_train, y_train)\n",
        "\n",
        "predicted_heights = xgb_model.predict(X_test)\n",
        "\n",
        "mse = mean_squared_error(y_test, predicted_heights)\n",
        "rmse = np.sqrt(mse)\n",
        "mae = mean_absolute_error(y_test, predicted_heights)\n",
        "print(f\"XGBoost - Mean Squared Error (MSE): {mse}\")\n",
        "print(f\"XGBoost - Root Mean Squared Error (RMSE): {rmse}\")\n",
        "print(f\"XGBoost - Mean Absolute Error (MAE): {mae}\")\n"
      ]
    },
    {
      "cell_type": "code",
      "source": [
        "import lightgbm as lgb\n",
        "\n",
        "lgb_model = lgb.LGBMRegressor(n_estimators=133, max_depth=5, num_leaves=7,learning_rate=0.1)\n",
        "lgb_model.fit(X_train, y_train)\n",
        "\n",
        "predicted_heights = lgb_model.predict(X_test)\n",
        "\n",
        "mse = mean_squared_error(y_test, predicted_heights)\n",
        "rmse = np.sqrt(mse)\n",
        "mae = mean_absolute_error(y_test, predicted_heights)\n",
        "print(f\"LightGBM - Mean Squared Error (MSE): {mse}\")\n",
        "print(f\"LightGBM - Root Mean Squared Error (RMSE): {rmse}\")\n",
        "print(f\"LightGBM - Mean Absolute Error (MAE): {mae}\")\n"
      ],
      "metadata": {
        "colab": {
          "base_uri": "https://localhost:8080/"
        },
        "id": "3Ni99kkLsECl",
        "outputId": "521b45e2-d8df-472b-815e-8a08ffcfc8ab"
      },
      "execution_count": null,
      "outputs": [
        {
          "output_type": "stream",
          "name": "stdout",
          "text": [
            "[LightGBM] [Info] Auto-choosing col-wise multi-threading, the overhead of testing was 0.000289 seconds.\n",
            "You can set `force_col_wise=true` to remove the overhead.\n",
            "[LightGBM] [Info] Total Bins 1785\n",
            "[LightGBM] [Info] Number of data points in the train set: 3250, number of used features: 7\n",
            "[LightGBM] [Info] Start training from score 17.267268\n",
            "LightGBM - Mean Squared Error (MSE): 0.04922006247356733\n",
            "LightGBM - Root Mean Squared Error (RMSE): 0.22185594982683546\n",
            "LightGBM - Mean Absolute Error (MAE): 0.1776817188346781\n"
          ]
        }
      ]
    },
    {
      "cell_type": "code",
      "source": [
        "from sklearn.ensemble import VotingRegressor\n",
        "from xgboost import XGBRegressor\n",
        "from lightgbm import LGBMRegressor\n",
        "from sklearn.linear_model import Ridge\n",
        "\n",
        "lgbm_model = lgb_model\n",
        "ridge_model = rf_model\n",
        "\n",
        "models = [('lgbm', lgbm_model), ('xgb', xgb_model), ('ridge', ridge_model)]\n",
        "\n",
        "weights = [1.0, 0.8, 0.5]\n",
        "\n",
        "voting_model = VotingRegressor(estimators=models, weights=weights)\n",
        "voting_model.fit(features, target)\n",
        "\n",
        "predictions = voting_model.predict(features)\n",
        "\n",
        "from sklearn.metrics import mean_squared_error, r2_score\n",
        "\n",
        "predictions = voting_model.predict(features)\n",
        "\n",
        "mse = mean_squared_error(target, predictions)\n",
        "print(\"Mean Squared Error (MSE):\", mse)\n",
        "\n",
        "r2 = r2_score(target, predictions)\n",
        "print(\"R-squared:\", r2)"
      ],
      "metadata": {
        "colab": {
          "base_uri": "https://localhost:8080/"
        },
        "id": "Az2LB6xMS1Nc",
        "outputId": "e31ae34f-f8ca-4a8f-8135-ce9bdac7ce4a"
      },
      "execution_count": null,
      "outputs": [
        {
          "output_type": "stream",
          "name": "stdout",
          "text": [
            "[LightGBM] [Info] Auto-choosing col-wise multi-threading, the overhead of testing was 0.000652 seconds.\n",
            "You can set `force_col_wise=true` to remove the overhead.\n",
            "[LightGBM] [Info] Total Bins 1785\n",
            "[LightGBM] [Info] Number of data points in the train set: 5000, number of used features: 7\n",
            "[LightGBM] [Info] Start training from score 17.214614\n",
            "Mean Squared Error (MSE): 0.02209824134038749\n",
            "R-squared: 0.9997613801353388\n"
          ]
        }
      ]
    },
    {
      "cell_type": "code",
      "source": [
        "an Squared Error (MSE): 0.02209824134038749\n",
        "R-squared: 0.9997613801353388"
      ],
      "metadata": {
        "id": "Nh4I4vytCmSU"
      },
      "execution_count": null,
      "outputs": []
    },
    {
      "cell_type": "code",
      "source": [
        "import cv2\n",
        "import numpy as np\n",
        "import pandas as pd\n",
        "\n",
        "\n",
        "def extract_features(image):\n",
        "    gray = cv2.cvtColor(image, cv2.COLOR_BGR2GRAY) if len(image.shape) > 2 else image\n",
        "\n",
        "    contours, _ = cv2.findContours(gray, cv2.RETR_EXTERNAL, cv2.CHAIN_APPROX_SIMPLE)\n",
        "\n",
        "    if not contours:\n",
        "        print(\"No object detected in the image!\")\n",
        "        return None\n",
        "\n",
        "    cnt = max(contours, key=cv2.contourArea)\n",
        "    area = cv2.contourArea(cnt)\n",
        "    perimeter = cv2.arcLength(cnt, True)\n",
        "    x, y, width, height = cv2.boundingRect(cnt)\n",
        "    mean_intensity = cv2.mean(gray)[0]\n",
        "    std = np.std(gray)\n",
        "    texture_energy = np.var(gray)\n",
        "    texture_homogeneity = np.std(texture_energy)\n",
        "    contrast=np.std(mean_intensity)\n",
        "    return area, perimeter, width, height, mean_intensity, std,contrast ,texture_energy, texture_homogeneity\n",
        "\n",
        "\n",
        "image = cv2.imread(\"tree12.jpg\")\n",
        "contour_area,contour_perimeter, bounding_box_width, bounding_box_height,mean_intensity, standard_deviation, contrast,  energy,homogeneity= extract_features(image)\n",
        "\n",
        "features_df = pd.DataFrame([[contour_area,bounding_box_width, bounding_box_height, mean_intensity, standard_deviation, contrast,  energy]],\n",
        "                           columns=[\"contour_area\",  \"bounding_box_width\", \"bounding_box_height\",\n",
        "                                  \"mean_intensity\", \"standard_deviation\", \"contrast\",  \"energy\"])\n",
        "\n",
        "predicted_height = voting_model.predict(features_df)[0]\n",
        "\n",
        "print(\"Predicted vegetation height:\", predicted_height)"
      ],
      "metadata": {
        "colab": {
          "base_uri": "https://localhost:8080/"
        },
        "id": "AY-8J3_6ZknE",
        "outputId": "05e0759b-90d0-4a75-db44-801cd7a6851a"
      },
      "execution_count": null,
      "outputs": [
        {
          "output_type": "stream",
          "name": "stdout",
          "text": [
            "Predicted vegetation height: 33.575575006533136\n"
          ]
        }
      ]
    }
  ]
}